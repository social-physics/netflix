{
 "cells": [
  {
   "cell_type": "code",
   "execution_count": 3,
   "metadata": {
    "collapsed": true
   },
   "outputs": [],
   "source": [
    "import pandas as pd\n",
    "\n",
    "# pass in column names for each CSV\n",
    "u_cols = ['user_id', 'age', 'sex', 'occupation', 'zip_code']\n",
    "users = pd.read_csv('ml-100k/u.user', sep='|', names=u_cols,\n",
    "                    encoding='latin-1')\n",
    "\n",
    "r_cols = ['user_id', 'movie_id', 'rating', 'unix_timestamp']\n",
    "ratings = pd.read_csv('ml-100k/u.data', sep='\\t', names=r_cols,\n",
    "                      encoding='latin-1')\n",
    "\n",
    "# the movies file contains columns indicating the movie's genres\n",
    "# let's only load the first five columns of the file with usecols\n",
    "m_cols = ['movie_id', 'title', 'release_date', 'video_release_date', 'imdb_url']\n",
    "movies = pd.read_csv('ml-100k/u.item', sep='|', names=m_cols, usecols=range(5),\n",
    "                     encoding='latin-1')"
   ]
  },
  {
   "cell_type": "code",
   "execution_count": 4,
   "metadata": {
    "collapsed": false
   },
   "outputs": [
    {
     "name": "stdout",
     "output_type": "stream",
     "text": [
      "<class 'pandas.core.frame.DataFrame'>\n",
      "RangeIndex: 1682 entries, 0 to 1681\n",
      "Data columns (total 5 columns):\n",
      "movie_id              1682 non-null int64\n",
      "title                 1682 non-null object\n",
      "release_date          1681 non-null object\n",
      "video_release_date    0 non-null float64\n",
      "imdb_url              1679 non-null object\n",
      "dtypes: float64(1), int64(1), object(3)\n",
      "memory usage: 65.8+ KB\n"
     ]
    }
   ],
   "source": [
    "movies.info()"
   ]
  },
  {
   "cell_type": "code",
   "execution_count": 5,
   "metadata": {
    "collapsed": false
   },
   "outputs": [
    {
     "data": {
      "text/plain": [
       "movie_id                int64\n",
       "title                  object\n",
       "release_date           object\n",
       "video_release_date    float64\n",
       "imdb_url               object\n",
       "dtype: object"
      ]
     },
     "execution_count": 5,
     "metadata": {},
     "output_type": "execute_result"
    }
   ],
   "source": [
    "movies.dtypes"
   ]
  },
  {
   "cell_type": "code",
   "execution_count": 6,
   "metadata": {
    "collapsed": false
   },
   "outputs": [
    {
     "data": {
      "text/html": [
       "<div>\n",
       "<table border=\"1\" class=\"dataframe\">\n",
       "  <thead>\n",
       "    <tr style=\"text-align: right;\">\n",
       "      <th></th>\n",
       "      <th>movie_id</th>\n",
       "      <th>title</th>\n",
       "      <th>release_date</th>\n",
       "      <th>video_release_date</th>\n",
       "      <th>imdb_url</th>\n",
       "    </tr>\n",
       "  </thead>\n",
       "  <tbody>\n",
       "    <tr>\n",
       "      <th>0</th>\n",
       "      <td>1</td>\n",
       "      <td>Toy Story (1995)</td>\n",
       "      <td>01-Jan-1995</td>\n",
       "      <td>NaN</td>\n",
       "      <td>http://us.imdb.com/M/title-exact?Toy%20Story%2...</td>\n",
       "    </tr>\n",
       "    <tr>\n",
       "      <th>1</th>\n",
       "      <td>2</td>\n",
       "      <td>GoldenEye (1995)</td>\n",
       "      <td>01-Jan-1995</td>\n",
       "      <td>NaN</td>\n",
       "      <td>http://us.imdb.com/M/title-exact?GoldenEye%20(...</td>\n",
       "    </tr>\n",
       "    <tr>\n",
       "      <th>2</th>\n",
       "      <td>3</td>\n",
       "      <td>Four Rooms (1995)</td>\n",
       "      <td>01-Jan-1995</td>\n",
       "      <td>NaN</td>\n",
       "      <td>http://us.imdb.com/M/title-exact?Four%20Rooms%...</td>\n",
       "    </tr>\n",
       "    <tr>\n",
       "      <th>3</th>\n",
       "      <td>4</td>\n",
       "      <td>Get Shorty (1995)</td>\n",
       "      <td>01-Jan-1995</td>\n",
       "      <td>NaN</td>\n",
       "      <td>http://us.imdb.com/M/title-exact?Get%20Shorty%...</td>\n",
       "    </tr>\n",
       "    <tr>\n",
       "      <th>4</th>\n",
       "      <td>5</td>\n",
       "      <td>Copycat (1995)</td>\n",
       "      <td>01-Jan-1995</td>\n",
       "      <td>NaN</td>\n",
       "      <td>http://us.imdb.com/M/title-exact?Copycat%20(1995)</td>\n",
       "    </tr>\n",
       "  </tbody>\n",
       "</table>\n",
       "</div>"
      ],
      "text/plain": [
       "   movie_id              title release_date  video_release_date  \\\n",
       "0         1   Toy Story (1995)  01-Jan-1995                 NaN   \n",
       "1         2   GoldenEye (1995)  01-Jan-1995                 NaN   \n",
       "2         3  Four Rooms (1995)  01-Jan-1995                 NaN   \n",
       "3         4  Get Shorty (1995)  01-Jan-1995                 NaN   \n",
       "4         5     Copycat (1995)  01-Jan-1995                 NaN   \n",
       "\n",
       "                                            imdb_url  \n",
       "0  http://us.imdb.com/M/title-exact?Toy%20Story%2...  \n",
       "1  http://us.imdb.com/M/title-exact?GoldenEye%20(...  \n",
       "2  http://us.imdb.com/M/title-exact?Four%20Rooms%...  \n",
       "3  http://us.imdb.com/M/title-exact?Get%20Shorty%...  \n",
       "4  http://us.imdb.com/M/title-exact?Copycat%20(1995)  "
      ]
     },
     "execution_count": 6,
     "metadata": {},
     "output_type": "execute_result"
    }
   ],
   "source": [
    "movies.head()"
   ]
  },
  {
   "cell_type": "code",
   "execution_count": 7,
   "metadata": {
    "collapsed": false
   },
   "outputs": [
    {
     "name": "stdout",
     "output_type": "stream",
     "text": [
      "   age zip_code\n",
      "0   24    85711\n",
      "1   53    94043\n",
      "2   23    32067\n",
      "3   24    43537\n",
      "4   33    15213\n",
      "\n",
      "\n",
      "   occupation sex\n",
      "0  technician   M\n",
      "1       other   F\n",
      "2      writer   M\n",
      "3  technician   M\n",
      "4       other   F\n"
     ]
    }
   ],
   "source": [
    "print(users[['age', 'zip_code']].head())\n",
    "print('\\n')\n",
    "\n",
    "# can also store in a variable to use later\n",
    "columns_you_want = ['occupation', 'sex'] \n",
    "print(users[columns_you_want].head())"
   ]
  },
  {
   "cell_type": "code",
   "execution_count": 8,
   "metadata": {
    "collapsed": false
   },
   "outputs": [
    {
     "name": "stdout",
     "output_type": "stream",
     "text": [
      "   user_id  age sex occupation zip_code\n",
      "1        2   53   F      other    94043\n",
      "4        5   33   F      other    15213\n",
      "5        6   42   M  executive    98101\n",
      "\n",
      "\n",
      "     user_id  age sex  occupation zip_code\n",
      "18        19   40   M   librarian    02138\n",
      "82        83   40   M       other    44133\n",
      "115      116   40   M  healthcare    97232\n",
      "\n",
      "\n",
      "   user_id  age sex  occupation zip_code\n",
      "0        1   24   M  technician    85711\n",
      "1        2   53   F       other    94043\n",
      "2        3   23   M      writer    32067\n"
     ]
    }
   ],
   "source": [
    "# users older than 25\n",
    "print(users[users.age > 25].head(3))\n",
    "print('\\n')\n",
    "\n",
    "# users aged 40 AND male\n",
    "print(users[(users.age == 40) & (users.sex == 'M')].head(3))\n",
    "print('\\n')\n",
    "\n",
    "# users younger than 30 OR female\n",
    "print(users[(users.sex == 'F') | (users.age < 30)].head(3))           "
   ]
  },
  {
   "cell_type": "code",
   "execution_count": 89,
   "metadata": {
    "collapsed": false
   },
   "outputs": [],
   "source": [
    "import pandas as pd\n",
    "movielens = pd.merge(movies, ratings)"
   ]
  },
  {
   "cell_type": "code",
   "execution_count": 10,
   "metadata": {
    "collapsed": false
   },
   "outputs": [
    {
     "data": {
      "text/html": [
       "<div>\n",
       "<table border=\"1\" class=\"dataframe\">\n",
       "  <thead>\n",
       "    <tr style=\"text-align: right;\">\n",
       "      <th></th>\n",
       "      <th>movie_id</th>\n",
       "      <th>title</th>\n",
       "      <th>rating</th>\n",
       "    </tr>\n",
       "  </thead>\n",
       "  <tbody>\n",
       "    <tr>\n",
       "      <th>0</th>\n",
       "      <td>1</td>\n",
       "      <td>Toy Story (1995)</td>\n",
       "      <td>4</td>\n",
       "    </tr>\n",
       "    <tr>\n",
       "      <th>1</th>\n",
       "      <td>1</td>\n",
       "      <td>Toy Story (1995)</td>\n",
       "      <td>5</td>\n",
       "    </tr>\n",
       "    <tr>\n",
       "      <th>2</th>\n",
       "      <td>1</td>\n",
       "      <td>Toy Story (1995)</td>\n",
       "      <td>4</td>\n",
       "    </tr>\n",
       "    <tr>\n",
       "      <th>3</th>\n",
       "      <td>1</td>\n",
       "      <td>Toy Story (1995)</td>\n",
       "      <td>4</td>\n",
       "    </tr>\n",
       "    <tr>\n",
       "      <th>4</th>\n",
       "      <td>1</td>\n",
       "      <td>Toy Story (1995)</td>\n",
       "      <td>3</td>\n",
       "    </tr>\n",
       "  </tbody>\n",
       "</table>\n",
       "</div>"
      ],
      "text/plain": [
       "   movie_id             title  rating\n",
       "0         1  Toy Story (1995)       4\n",
       "1         1  Toy Story (1995)       5\n",
       "2         1  Toy Story (1995)       4\n",
       "3         1  Toy Story (1995)       4\n",
       "4         1  Toy Story (1995)       3"
      ]
     },
     "execution_count": 10,
     "metadata": {},
     "output_type": "execute_result"
    }
   ],
   "source": [
    "stats = movielens[['movie_id', 'title', 'rating']]\n",
    "stats.head()"
   ]
  },
  {
   "cell_type": "code",
   "execution_count": 67,
   "metadata": {
    "collapsed": false
   },
   "outputs": [
    {
     "name": "stdout",
     "output_type": "stream",
     "text": [
      "movie_id\n",
      "1    3.878319\n",
      "2    3.206107\n",
      "3    3.033333\n",
      "4    3.550239\n",
      "5    3.302326\n",
      "Name: rating, dtype: float64\n",
      "       movie_id                                              title  rating\n",
      "0             1                                   Toy Story (1995)       4\n",
      "1             1                                   Toy Story (1995)       5\n",
      "2             1                                   Toy Story (1995)       4\n",
      "3             1                                   Toy Story (1995)       4\n",
      "4             1                                   Toy Story (1995)       3\n",
      "452           2                                   GoldenEye (1995)       3\n",
      "453           2                                   GoldenEye (1995)       2\n",
      "454           2                                   GoldenEye (1995)       4\n",
      "455           2                                   GoldenEye (1995)       3\n",
      "456           2                                   GoldenEye (1995)       4\n",
      "583           3                                  Four Rooms (1995)       2\n",
      "584           3                                  Four Rooms (1995)       4\n",
      "585           3                                  Four Rooms (1995)       3\n",
      "586           3                                  Four Rooms (1995)       5\n",
      "587           3                                  Four Rooms (1995)       3\n",
      "673           4                                  Get Shorty (1995)       5\n",
      "674           4                                  Get Shorty (1995)       4\n",
      "675           4                                  Get Shorty (1995)       4\n",
      "676           4                                  Get Shorty (1995)       4\n",
      "677           4                                  Get Shorty (1995)       4\n",
      "882           5                                     Copycat (1995)       3\n",
      "883           5                                     Copycat (1995)       4\n",
      "884           5                                     Copycat (1995)       3\n",
      "885           5                                     Copycat (1995)       3\n",
      "886           5                                     Copycat (1995)       3\n",
      "968           6  Shanghai Triad (Yao a yao yao dao waipo qiao) ...       3\n",
      "969           6  Shanghai Triad (Yao a yao yao dao waipo qiao) ...       5\n",
      "970           6  Shanghai Triad (Yao a yao yao dao waipo qiao) ...       4\n",
      "971           6  Shanghai Triad (Yao a yao yao dao waipo qiao) ...       5\n",
      "972           6  Shanghai Triad (Yao a yao yao dao waipo qiao) ...       4\n",
      "...         ...                                                ...     ...\n",
      "99970      1658                      Substance of Fire, The (1996)       4\n",
      "99971      1659                    Getting Away With Murder (1996)       1\n",
      "99972      1660                                 Small Faces (1995)       2\n",
      "99973      1661                                New Age, The (1994)       1\n",
      "99974      1662                                 Rough Magic (1995)       1\n",
      "99975      1662                                 Rough Magic (1995)       4\n",
      "99976      1663                            Nothing Personal (1995)       2\n",
      "99977      1664                     8 Heads in a Duffel Bag (1997)       1\n",
      "99978      1664                     8 Heads in a Duffel Bag (1997)       4\n",
      "99979      1664                     8 Heads in a Duffel Bag (1997)       4\n",
      "99980      1664                     8 Heads in a Duffel Bag (1997)       4\n",
      "99981      1665                           Brother's Kiss, A (1997)       2\n",
      "99982      1666                                        Ripe (1996)       2\n",
      "99983      1667                              Next Step, The (1995)       3\n",
      "99984      1668                          Wedding Bell Blues (1996)       3\n",
      "99985      1669                           MURDER and murder (1996)       2\n",
      "99986      1670                                     Tainted (1998)       3\n",
      "99987      1671                          Further Gesture, A (1996)       1\n",
      "99988      1672                                        Kika (1993)       2\n",
      "99989      1672                                        Kika (1993)       2\n",
      "99990      1673                                      Mirage (1995)       3\n",
      "99991      1674                                  Mamma Roma (1962)       4\n",
      "99992      1675                              Sunchaser, The (1996)       3\n",
      "99993      1676                            War at Home, The (1996)       2\n",
      "99994      1677                               Sweet Nothing (1995)       3\n",
      "99995      1678                                  Mat' i syn (1997)       1\n",
      "99996      1679                                   B. Monkey (1998)       3\n",
      "99997      1680                               Sliding Doors (1998)       2\n",
      "99998      1681                                You So Crazy (1994)       3\n",
      "99999      1682          Scream of Stone (Schrei aus Stein) (1991)       3\n",
      "\n",
      "[7458 rows x 3 columns]\n"
     ]
    }
   ],
   "source": [
    "by_title = stats.groupby('title')\n",
    "by_id = stats.groupby('movie_id')\n",
    "\n",
    "by_id_mean = by_id['rating'].mean()\n",
    "print by_id_mean.head()\n",
    "print by_id.head()"
   ]
  },
  {
   "cell_type": "code",
   "execution_count": 12,
   "metadata": {
    "collapsed": false
   },
   "outputs": [
    {
     "name": "stdout",
     "output_type": "stream",
     "text": [
      "                           movie_id  rating\n",
      "title                                      \n",
      "'Til There Was You (1997)         9       9\n",
      "1-900 (1994)                      5       5\n",
      "101 Dalmatians (1996)           109     109\n",
      "12 Angry Men (1957)             125     125\n",
      "187 (1997)                       41      41\n",
      "\n",
      "\n",
      "title\n",
      "Young Guns II (1990)                     44\n",
      "Young Poisoner's Handbook, The (1995)    41\n",
      "Zeus and Roxanne (1997)                   6\n",
      "unknown                                   9\n",
      "Á köldum klaka (Cold Fever) (1994)        1\n",
      "dtype: int64\n"
     ]
    }
   ],
   "source": [
    "print(by_title.count().head()) # NOT NULL records within each column\n",
    "print('\\n')\n",
    "print(by_title.size().tail())"
   ]
  },
  {
   "cell_type": "code",
   "execution_count": 13,
   "metadata": {
    "collapsed": false
   },
   "outputs": [
    {
     "name": "stdout",
     "output_type": "stream",
     "text": [
      "                                                    movie_id  rating\n",
      "title                                                               \n",
      "Addams Family Values (1993)                            33582     245\n",
      "Addicted to Love (1997)                                28890     171\n",
      "Addiction, The (1995)                                   8437      24\n",
      "Adventures of Pinocchio, The (1996)                    41340     119\n",
      "Adventures of Priscilla, Queen of the Desert, T...     42402     399\n",
      "\n",
      "\n",
      "                                                    movie_id    rating\n",
      "title                                                                 \n",
      "Addams Family Values (1993)                            386.0  2.816092\n",
      "Addicted to Love (1997)                                535.0  3.166667\n",
      "Addiction, The (1995)                                  767.0  2.181818\n",
      "Adventures of Pinocchio, The (1996)                   1060.0  3.051282\n",
      "Adventures of Priscilla, Queen of the Desert, T...     382.0  3.594595\n",
      "\n",
      "\n",
      "                                                    movie_id  rating\n",
      "title                                                               \n",
      "Addams Family Values (1993)                            386.0     3.0\n",
      "Addicted to Love (1997)                                535.0     3.0\n",
      "Addiction, The (1995)                                  767.0     2.0\n",
      "Adventures of Pinocchio, The (1996)                   1060.0     3.0\n",
      "Adventures of Priscilla, Queen of the Desert, T...     382.0     4.0\n"
     ]
    }
   ],
   "source": [
    "print(by_title.sum()[20:25]) # total salaries of each department\n",
    "print('\\n')\n",
    "print(by_title.mean()[20:25]) # average salary of each department\n",
    "print('\\n')\n",
    "print(by_title.median()[20:25])"
   ]
  },
  {
   "cell_type": "code",
   "execution_count": 87,
   "metadata": {
    "collapsed": false
   },
   "outputs": [
    {
     "name": "stdout",
     "output_type": "stream",
     "text": [
      "68\n"
     ]
    }
   ],
   "source": [
    "ratings_count = by_title.size()\n",
    "ratings_count_250 = len(ratings_count.index[ratings_count>250])\n",
    "print ratings_count_250\n",
    "\n",
    "by_title_mean = by_title.mean()\n",
    "by_title_mean.movie_id = by_title_mean.movie_id.astype(int)\n",
    "by_title_mean_sorted = by_title_mean.sort_values('rating', ascending=True)\n",
    "by_title_mean_sorted_250 = by_title_mean_sorted[:ratings_count_250]   "
   ]
  },
  {
   "cell_type": "code",
   "execution_count": 88,
   "metadata": {
    "collapsed": false
   },
   "outputs": [
    {
     "data": {
      "text/html": [
       "<div>\n",
       "<table border=\"1\" class=\"dataframe\">\n",
       "  <thead>\n",
       "    <tr style=\"text-align: right;\">\n",
       "      <th></th>\n",
       "      <th>movie_id</th>\n",
       "      <th>rating</th>\n",
       "    </tr>\n",
       "    <tr>\n",
       "      <th>title</th>\n",
       "      <th></th>\n",
       "      <th></th>\n",
       "    </tr>\n",
       "  </thead>\n",
       "  <tbody>\n",
       "    <tr>\n",
       "      <th>Eye of Vichy, The (Oeil de Vichy, L') (1993)</th>\n",
       "      <td>1562</td>\n",
       "      <td>1.0</td>\n",
       "    </tr>\n",
       "    <tr>\n",
       "      <th>Butterfly Kiss (1995)</th>\n",
       "      <td>1621</td>\n",
       "      <td>1.0</td>\n",
       "    </tr>\n",
       "    <tr>\n",
       "      <th>Daens (1992)</th>\n",
       "      <td>1565</td>\n",
       "      <td>1.0</td>\n",
       "    </tr>\n",
       "    <tr>\n",
       "      <th>JLG/JLG - autoportrait de décembre (1994)</th>\n",
       "      <td>1366</td>\n",
       "      <td>1.0</td>\n",
       "    </tr>\n",
       "    <tr>\n",
       "      <th>Touki Bouki (Journey of the Hyena) (1973)</th>\n",
       "      <td>1571</td>\n",
       "      <td>1.0</td>\n",
       "    </tr>\n",
       "  </tbody>\n",
       "</table>\n",
       "</div>"
      ],
      "text/plain": [
       "                                              movie_id  rating\n",
       "title                                                         \n",
       "Eye of Vichy, The (Oeil de Vichy, L') (1993)      1562     1.0\n",
       "Butterfly Kiss (1995)                             1621     1.0\n",
       "Daens (1992)                                      1565     1.0\n",
       "JLG/JLG - autoportrait de décembre (1994)         1366     1.0\n",
       "Touki Bouki (Journey of the Hyena) (1973)         1571     1.0"
      ]
     },
     "execution_count": 88,
     "metadata": {},
     "output_type": "execute_result"
    }
   ],
   "source": [
    "df = pd.DataFrame(by_title_mean_sorted_250, columns=['movie_id', 'rating'])\n",
    "df.head()"
   ]
  },
  {
   "cell_type": "code",
   "execution_count": 85,
   "metadata": {
    "collapsed": false
   },
   "outputs": [
    {
     "name": "stdout",
     "output_type": "stream",
     "text": [
      "<pandas.core.groupby.DataFrameGroupBy object at 0x1156d1450>\n"
     ]
    }
   ],
   "source": [
    "print by_title"
   ]
  },
  {
   "cell_type": "code",
   "execution_count": 69,
   "metadata": {
    "collapsed": false
   },
   "outputs": [
    {
     "name": "stdout",
     "output_type": "stream",
     "text": [
      "   Close  Open\n",
      "0      4     1\n",
      "1      5     2\n",
      "2      6     3\n"
     ]
    }
   ],
   "source": [
    "data = {'Open': [1, 2, 3],\n",
    "       'Close': [4, 5, 6]}\n",
    "df = pd.DataFrame(data)\n",
    "print df"
   ]
  },
  {
   "cell_type": "code",
   "execution_count": 70,
   "metadata": {
    "collapsed": false
   },
   "outputs": [
    {
     "data": {
      "text/plain": [
       "0    2.5\n",
       "1    3.5\n",
       "2    4.5\n",
       "dtype: float64"
      ]
     },
     "execution_count": 70,
     "metadata": {},
     "output_type": "execute_result"
    }
   ],
   "source": [
    "df.apply(np.mean, axis=1)"
   ]
  },
  {
   "cell_type": "code",
   "execution_count": 79,
   "metadata": {
    "collapsed": false
   },
   "outputs": [
    {
     "data": {
      "text/plain": [
       "Close    5.0\n",
       "Open     2.0\n",
       "dtype: float64"
      ]
     },
     "execution_count": 79,
     "metadata": {},
     "output_type": "execute_result"
    }
   ],
   "source": [
    "df.apply(np.mean, axis=0)"
   ]
  },
  {
   "cell_type": "code",
   "execution_count": 83,
   "metadata": {
    "collapsed": false
   },
   "outputs": [
    {
     "data": {
      "text/plain": [
       "Close   -1\n",
       "Open    -1\n",
       "dtype: int64"
      ]
     },
     "execution_count": 83,
     "metadata": {},
     "output_type": "execute_result"
    }
   ],
   "source": [
    "df.apply(lambda y: (y[0] - y[1]), axis=0).head(3)"
   ]
  },
  {
   "cell_type": "code",
   "execution_count": 78,
   "metadata": {
    "collapsed": false
   },
   "outputs": [
    {
     "data": {
      "text/plain": [
       "<pandas.core.groupby.DataFrameGroupBy object at 0x1156d1450>"
      ]
     },
     "execution_count": 78,
     "metadata": {},
     "output_type": "execute_result"
    }
   ],
   "source": [
    "#data = {by_title['movie_id'], by_title['title']}\n",
    "#movie_df = pd.DataFrame(data)\n",
    "by_title"
   ]
  },
  {
   "cell_type": "code",
   "execution_count": 94,
   "metadata": {
    "collapsed": true
   },
   "outputs": [],
   "source": [
    "movielens = pd.merge(movies, ratings)\n",
    "movielens_info = movies[['movie_id', 'title']]\n",
    "movielens_rating = ratings[['movie_id', 'rating']].sort_values('movie_id', ascending=False)"
   ]
  },
  {
   "cell_type": "code",
   "execution_count": 95,
   "metadata": {
    "collapsed": false
   },
   "outputs": [
    {
     "name": "stdout",
     "output_type": "stream",
     "text": [
      "   movie_id              title\n",
      "0         1   Toy Story (1995)\n",
      "1         2   GoldenEye (1995)\n",
      "2         3  Four Rooms (1995)\n",
      "3         4  Get Shorty (1995)\n",
      "4         5     Copycat (1995)\n",
      "       movie_id  rating\n",
      "25741         1       2\n",
      "93639         1       4\n",
      "55726         1       5\n",
      "49529         1       4\n",
      "89079         1       4\n"
     ]
    }
   ],
   "source": [
    "print movielens_info.head()\n",
    "print movielens_rating.head()"
   ]
  },
  {
   "cell_type": "code",
   "execution_count": null,
   "metadata": {
    "collapsed": true
   },
   "outputs": [],
   "source": []
  }
 ],
 "metadata": {
  "anaconda-cloud": {},
  "kernelspec": {
   "display_name": "Python [Root]",
   "language": "python",
   "name": "Python [Root]"
  },
  "language_info": {
   "codemirror_mode": {
    "name": "ipython",
    "version": 2
   },
   "file_extension": ".py",
   "mimetype": "text/x-python",
   "name": "python",
   "nbconvert_exporter": "python",
   "pygments_lexer": "ipython2",
   "version": "2.7.12"
  }
 },
 "nbformat": 4,
 "nbformat_minor": 0
}
